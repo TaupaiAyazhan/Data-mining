{
 "cells": [
  {
   "cell_type": "code",
   "execution_count": 1,
   "id": "fa847e2a",
   "metadata": {},
   "outputs": [
    {
     "name": "stdout",
     "output_type": "stream",
     "text": [
      "Выбранные признаки:\n",
      "Index(['mean radius', 'mean concavity', 'mean concave points', 'texture error',\n",
      "       'worst radius', 'worst smoothness', 'worst compactness',\n",
      "       'worst concavity', 'worst concave points', 'worst symmetry'],\n",
      "      dtype='object')\n",
      "\n",
      "Точность модели: 0.97\n"
     ]
    }
   ],
   "source": [
    "import pandas as pd\n",
    "from sklearn.datasets import load_breast_cancer\n",
    "from sklearn.model_selection import train_test_split\n",
    "from sklearn.svm import SVC\n",
    "from sklearn.feature_selection import RFE\n",
    "from sklearn.metrics import accuracy_score\n",
    "\n",
    "data = load_breast_cancer()\n",
    "X = pd.DataFrame(data.data, columns=data.feature_names)\n",
    "y = pd.Series(data.target)\n",
    "\n",
    "X1, X2, y1, y2 = train_test_split(X, y, test_size=0.2, random_state=42)\n",
    "\n",
    "svm_classifier = SVC(kernel=\"linear\")\n",
    "rfe = RFE(estimator=svm_classifier, n_features_to_select=10)\n",
    "rfe.fit(X1, y1)\n",
    "\n",
    "selected_features = X.columns[rfe.support_]\n",
    "print(\"Выбранные признаки:\")\n",
    "print(selected_features)\n",
    "print()\n",
    "\n",
    "X1_rfe = rfe.transform(X1) \n",
    "X2_rfe = rfe.transform(X2)  \n",
    "\n",
    "svm_classifier.fit(X1_rfe, y1)\n",
    "\n",
    "y_pred = svm_classifier.predict(X2_rfe) \n",
    "accuracy = accuracy_score(y2, y_pred) \n",
    "\n",
    "print(f\"Точность модели: {accuracy:.2f}\")"
   ]
  },
  {
   "cell_type": "code",
   "execution_count": null,
   "id": "37c5b086",
   "metadata": {},
   "outputs": [],
   "source": []
  }
 ],
 "metadata": {
  "kernelspec": {
   "display_name": "Python 3 (ipykernel)",
   "language": "python",
   "name": "python3"
  },
  "language_info": {
   "codemirror_mode": {
    "name": "ipython",
    "version": 3
   },
   "file_extension": ".py",
   "mimetype": "text/x-python",
   "name": "python",
   "nbconvert_exporter": "python",
   "pygments_lexer": "ipython3",
   "version": "3.9.12"
  }
 },
 "nbformat": 4,
 "nbformat_minor": 5
}
