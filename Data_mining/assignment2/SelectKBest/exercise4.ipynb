{
 "cells": [
  {
   "cell_type": "code",
   "execution_count": 2,
   "id": "abb5592a",
   "metadata": {},
   "outputs": [
    {
     "name": "stdout",
     "output_type": "stream",
     "text": [
      "[   0.         -152.66706552  552.6941724   303.37055083  -81.3648345\n",
      "   -0.         -229.25829816    0.          447.91818931   29.64235375]\n"
     ]
    }
   ],
   "source": [
    "from sklearn.datasets import load_diabetes\n",
    "from sklearn.model_selection import train_test_split\n",
    "from sklearn.linear_model import Lasso\n",
    "from sklearn.metrics import mean_squared_error, r2_score\n",
    "\n",
    "data = load_diabetes()\n",
    "X = data.data  \n",
    "y = data.target\n",
    "\n",
    "X1, X2, y1, y2 = train_test_split(X, y, test_size=0.2, random_state=42)\n",
    "\n",
    "l = Lasso(alpha=0.1)\n",
    "l.fit(X1, y1)\n",
    "print(l.coef_)"
   ]
  },
  {
   "cell_type": "code",
   "execution_count": 3,
   "id": "b208b1fe",
   "metadata": {},
   "outputs": [
    {
     "name": "stdout",
     "output_type": "stream",
     "text": [
      "Средняя квадратичная ошибка: 2798.19\n",
      "R^2: 0.47\n"
     ]
    }
   ],
   "source": [
    "y_pred = l.predict(X2)\n",
    "\n",
    "mse = mean_squared_error(y2, y_pred)\n",
    "r2 = r2_score(y2, y_pred)\n",
    "\n",
    "print(f\"Средняя квадратичная ошибка: {mse:.2f}\")\n",
    "print(f\"R^2: {r2:.2f}\")"
   ]
  },
  {
   "cell_type": "code",
   "execution_count": null,
   "id": "89f54010",
   "metadata": {},
   "outputs": [],
   "source": []
  }
 ],
 "metadata": {
  "kernelspec": {
   "display_name": "Python 3 (ipykernel)",
   "language": "python",
   "name": "python3"
  },
  "language_info": {
   "codemirror_mode": {
    "name": "ipython",
    "version": 3
   },
   "file_extension": ".py",
   "mimetype": "text/x-python",
   "name": "python",
   "nbconvert_exporter": "python",
   "pygments_lexer": "ipython3",
   "version": "3.9.12"
  }
 },
 "nbformat": 4,
 "nbformat_minor": 5
}
