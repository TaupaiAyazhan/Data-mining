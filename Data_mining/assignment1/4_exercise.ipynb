{
 "cells": [
  {
   "cell_type": "code",
   "execution_count": 1,
   "id": "ce2f82cc",
   "metadata": {},
   "outputs": [
    {
     "name": "stdout",
     "output_type": "stream",
     "text": [
      "   Feature1  Feature2  Result\n",
      "0         2        10      20\n",
      "1         3        20      60\n",
      "2         4        30     120\n",
      "3         5        40     200\n"
     ]
    }
   ],
   "source": [
    "import pandas as pd\n",
    "df = pd.DataFrame({\n",
    "    'Feature1':[2, 3, 4, 5],\n",
    "    'Feature2':[10, 20, 30, 40]\n",
    "})\n",
    "\n",
    "df['Result'] = df['Feature1'] * df['Feature2']\n",
    "\n",
    "print(df)"
   ]
  },
  {
   "cell_type": "code",
   "execution_count": 2,
   "id": "518c9350",
   "metadata": {},
   "outputs": [
    {
     "name": "stdout",
     "output_type": "stream",
     "text": [
      "[[ 1.  4.  1.  4. 16.]\n",
      " [ 2.  5.  4. 10. 25.]\n",
      " [ 3.  6.  9. 18. 36.]]\n"
     ]
    }
   ],
   "source": [
    "from sklearn.preprocessing import PolynomialFeatures\n",
    "\n",
    "df = pd.DataFrame({\n",
    "    'Feature1':[1, 2, 3],\n",
    "    'Feature2':[4, 5, 6]\n",
    "})\n",
    "\n",
    "poly = PolynomialFeatures(degree=2, include_bias = False)\n",
    "new_features = poly.fit_transform(df)\n",
    "\n",
    "\"\"\"\n",
    "Feature1 = 1\n",
    "Feature2 = 4\n",
    "Feature1^2 = 1^2 = 1\n",
    "Feature1 * Feature2 = 1 * 4 = 4\n",
    "Feature2^2 = 4^2 = 16\n",
    "\"\"\"\n",
    "\n",
    "print(new_features)"
   ]
  },
  {
   "cell_type": "code",
   "execution_count": 3,
   "id": "e1f2f6bb",
   "metadata": {},
   "outputs": [
    {
     "name": "stdout",
     "output_type": "stream",
     "text": [
      "        Date  Year  Month  Day\n",
      "0 2023-01-01  2023      1    1\n",
      "1 2023-05-15  2023      5   15\n",
      "2 2024-07-20  2024      7   20\n"
     ]
    }
   ],
   "source": [
    "df = pd.DataFrame({\n",
    "    'Date' : ['2023-01-01', '2023-05-15', '2024-07-20']\n",
    "})\n",
    "\n",
    "df['Date'] = pd.to_datetime(df['Date'])\n",
    "\n",
    "df['Year'] = df['Date'].dt.year\n",
    "df['Month'] = df['Date'].dt.month\n",
    "df['Day'] = df['Date'].dt.day\n",
    "\n",
    "print(df)"
   ]
  },
  {
   "cell_type": "code",
   "execution_count": 4,
   "id": "a14da7ae",
   "metadata": {},
   "outputs": [
    {
     "name": "stdout",
     "output_type": "stream",
     "text": [
      "       Time  Time_hour\n",
      "0  08:30:00    Morning\n",
      "1  14:45:00  Afternoon\n",
      "2  18:20:00    Evening\n",
      "3  22:10:00      Night\n"
     ]
    }
   ],
   "source": [
    "df = pd.DataFrame({\n",
    "    'Time' : ['08:30', '14:45', '18:20', '22:10']\n",
    "})\n",
    "\n",
    "df['Time'] = pd.to_datetime(df['Time'], format='%H:%M').dt.time\n",
    "\n",
    "def time_of_day(hour):\n",
    "    if 5 <= hour < 12:\n",
    "        return 'Morning'\n",
    "    elif 12 <= hour < 18:\n",
    "        return 'Afternoon'\n",
    "    elif 18 <= hour < 22:\n",
    "        return 'Evening'\n",
    "    else:\n",
    "        return 'Night'\n",
    "\n",
    "df['Time_hour'] = df['Time'].apply(lambda x:time_of_day(x.hour))\n",
    "\n",
    "print(df)"
   ]
  },
  {
   "cell_type": "code",
   "execution_count": null,
   "id": "7b601d06",
   "metadata": {},
   "outputs": [],
   "source": []
  }
 ],
 "metadata": {
  "kernelspec": {
   "display_name": "Python 3 (ipykernel)",
   "language": "python",
   "name": "python3"
  },
  "language_info": {
   "codemirror_mode": {
    "name": "ipython",
    "version": 3
   },
   "file_extension": ".py",
   "mimetype": "text/x-python",
   "name": "python",
   "nbconvert_exporter": "python",
   "pygments_lexer": "ipython3",
   "version": "3.9.12"
  }
 },
 "nbformat": 4,
 "nbformat_minor": 5
}
