{
 "cells": [
  {
   "cell_type": "code",
   "execution_count": 1,
   "id": "dcc5dc04",
   "metadata": {},
   "outputs": [
    {
     "name": "stdout",
     "output_type": "stream",
     "text": [
      "   Feature1  Feature2  Target\n",
      "0         1        10       0\n",
      "1         2        20       1\n",
      "2         3        30       0\n",
      "3         4        40       1\n",
      "4         5        50       1\n",
      "   Feature1  Feature2\n",
      "0         1        10\n",
      "1         2        20\n",
      "2         3        30\n",
      "3         4        40\n",
      "4         5        50\n",
      "0    0\n",
      "1    1\n",
      "2    0\n",
      "3    1\n",
      "4    1\n",
      "Name: Target, dtype: int64\n"
     ]
    }
   ],
   "source": [
    "import pandas as pd\n",
    "from sklearn.model_selection import train_test_split\n",
    "from sklearn.linear_model import LogisticRegression\n",
    "from sklearn.metrics import accuracy_score\n",
    "\n",
    "df = pd.DataFrame({\n",
    "    'Feature1' : [1, 2, 3, 4, 5],\n",
    "    'Feature2' : [10, 20, 30, 40, 50],\n",
    "    'Target' : [0, 1, 0, 1, 1]\n",
    "})\n",
    "\n",
    "# axis=1 remove a column \n",
    "# axis=0 removing a row\n",
    "\n",
    "X = df.drop('Target', axis=1) \n",
    "y = df['Target']\n",
    "\n",
    "print(df) #all\n",
    "print(X)  #feature1 and feature2\n",
    "print(y)  #only target"
   ]
  },
  {
   "cell_type": "code",
   "execution_count": 2,
   "id": "9456fcbb",
   "metadata": {},
   "outputs": [
    {
     "name": "stdout",
     "output_type": "stream",
     "text": [
      "Accuracy with 70-30 split: 0.50\n",
      "Accuracy with 80-20 split: 0.00\n"
     ]
    }
   ],
   "source": [
    "X_train_70, X_test_30, y_train_70, y_test_30 = train_test_split(X, y, test_size=0.3, random_state=42)\n",
    "\n",
    "X_train_80, X_test_20, y_train_80, y_test_20 = train_test_split(X, y, test_size=0.2, random_state=42)\n",
    "\n",
    "model = LogisticRegression()\n",
    "\n",
    "model.fit(X_train_70, y_train_70)\n",
    "predictions_70 = model.predict(X_test_30)\n",
    "accuracy_70 = accuracy_score(y_test_30, predictions_70)\n",
    "\n",
    "model.fit(X_train_80, y_train_80)\n",
    "predictions_80 = model.predict(X_test_20)\n",
    "accuracy_80 = accuracy_score(y_test_20, predictions_80)\n",
    "\n",
    "print(f\"Accuracy with 70-30 split: {accuracy_70:.2f}\")\n",
    "print(f\"Accuracy with 80-20 split: {accuracy_80:.2f}\")"
   ]
  },
  {
   "cell_type": "code",
   "execution_count": null,
   "id": "e750bdf7",
   "metadata": {},
   "outputs": [],
   "source": []
  }
 ],
 "metadata": {
  "kernelspec": {
   "display_name": "Python 3 (ipykernel)",
   "language": "python",
   "name": "python3"
  },
  "language_info": {
   "codemirror_mode": {
    "name": "ipython",
    "version": 3
   },
   "file_extension": ".py",
   "mimetype": "text/x-python",
   "name": "python",
   "nbconvert_exporter": "python",
   "pygments_lexer": "ipython3",
   "version": "3.9.12"
  }
 },
 "nbformat": 4,
 "nbformat_minor": 5
}
