{
 "cells": [
  {
   "cell_type": "code",
   "execution_count": 1,
   "id": "37fbfc47",
   "metadata": {},
   "outputs": [
    {
     "name": "stdout",
     "output_type": "stream",
     "text": [
      "         Date       Open       High        Low      Close  Adj Close  \\\n",
      "0  2015-08-25  27.777500          -        NaN  25.934999      ERROR   \n",
      "1  2015-08-26  26.772499  27.472500  26.262501  27.422501  25.039267   \n",
      "2  2015-08-27  28.057501  28.309999  27.504999  28.230000  25.776581   \n",
      "3  2015-08-28  28.042500  28.327499  27.885000  28.322500  25.861042   \n",
      "4  2015-08-31  28.007500  28.632500  28.000000  28.190001  25.740063   \n",
      "\n",
      "      Volume  \n",
      "0  414406400  \n",
      "1  387098400  \n",
      "2  338464400  \n",
      "3      ERROR  \n",
      "4  224917200  \n",
      "            Date        Open        High         Low       Close   Adj Close  \\\n",
      "1769  2022-08-18  173.750000  174.899994  173.119995  174.149994  174.149994   \n",
      "1770  2022-08-19  173.029999  173.740005  171.309998  171.520004  171.520004   \n",
      "1771  2022-08-22  169.690002  169.860001  167.139999  167.570007  167.570007   \n",
      "1772  2022-08-23  167.080002  168.710007  166.649994  167.229996  167.229996   \n",
      "1773  2022-08-24  167.320007  168.110001  166.250000  167.529999  167.529999   \n",
      "\n",
      "        Volume  \n",
      "1769  62290100  \n",
      "1770  70211500  \n",
      "1771  69026800  \n",
      "1772  54147100  \n",
      "1773  53766800  \n",
      "<class 'pandas.core.frame.DataFrame'>\n",
      "RangeIndex: 1774 entries, 0 to 1773\n",
      "Data columns (total 7 columns):\n",
      " #   Column     Non-Null Count  Dtype  \n",
      "---  ------     --------------  -----  \n",
      " 0   Date       1773 non-null   object \n",
      " 1   Open       1774 non-null   object \n",
      " 2   High       1773 non-null   object \n",
      " 3   Low        1772 non-null   float64\n",
      " 4   Close      1772 non-null   object \n",
      " 5   Adj Close  1774 non-null   object \n",
      " 6   Volume     1773 non-null   object \n",
      "dtypes: float64(1), object(6)\n",
      "memory usage: 97.1+ KB\n",
      "None\n",
      "       Date   Open   High    Low  Close  Adj Close  Volume\n",
      "0     False  False  False   True  False      False   False\n",
      "1     False  False  False  False  False      False   False\n",
      "2     False  False  False  False  False      False   False\n",
      "3     False  False  False  False  False      False   False\n",
      "4     False  False  False  False  False      False   False\n",
      "...     ...    ...    ...    ...    ...        ...     ...\n",
      "1769  False  False  False  False  False      False   False\n",
      "1770  False  False  False  False  False      False   False\n",
      "1771  False  False  False  False  False      False   False\n",
      "1772  False  False  False  False  False      False   False\n",
      "1773  False  False  False  False  False      False   False\n",
      "\n",
      "[1774 rows x 7 columns]\n",
      "Date          object\n",
      "Open          object\n",
      "High          object\n",
      "Low          float64\n",
      "Close         object\n",
      "Adj Close     object\n",
      "Volume        object\n",
      "dtype: object\n"
     ]
    }
   ],
   "source": [
    "import pandas as pd\n",
    "df = pd.read_csv('Apple_price_to_clean.csv')\n",
    "\n",
    "print(df.head()) #first five\n",
    "print(df.tail()) #last five\n",
    "print(df.info()) # dataset, data types, number non-null, memory usage\n",
    "print(df.isnull())\n",
    "print(df.dtypes)"
   ]
  }
 ],
 "metadata": {
  "kernelspec": {
   "display_name": "Python 3 (ipykernel)",
   "language": "python",
   "name": "python3"
  },
  "language_info": {
   "codemirror_mode": {
    "name": "ipython",
    "version": 3
   },
   "file_extension": ".py",
   "mimetype": "text/x-python",
   "name": "python",
   "nbconvert_exporter": "python",
   "pygments_lexer": "ipython3",
   "version": "3.9.12"
  }
 },
 "nbformat": 4,
 "nbformat_minor": 5
}
