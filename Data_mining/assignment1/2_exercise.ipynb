{
 "cells": [
  {
   "cell_type": "code",
   "execution_count": 1,
   "id": "d060b06e",
   "metadata": {},
   "outputs": [
    {
     "name": "stdout",
     "output_type": "stream",
     "text": [
      "Date         1\n",
      "Open         0\n",
      "High         1\n",
      "Low          2\n",
      "Close        2\n",
      "Adj Close    0\n",
      "Volume       1\n",
      "dtype: int64\n"
     ]
    }
   ],
   "source": [
    "import pandas as pd\n",
    "df = pd.read_csv('Apple_price_to_clean.csv')\n",
    "\n",
    "print(df.isnull().sum()) #determining the amount of missing data\n",
    "df_cleaned = df.dropna() #Removing rows with missing values\n",
    "\n",
    "# fillna() method allows you to fill in missing values\n",
    "# df['Date'].fillna(df['Date'].mean(), inplace=True)  #column's mean value\n",
    "# df['Date'].fillna(df['Date'].median(), inplace=True) #column's median value"
   ]
  },
  {
   "cell_type": "code",
   "execution_count": 2,
   "id": "1d1ee25e",
   "metadata": {},
   "outputs": [
    {
     "name": "stdout",
     "output_type": "stream",
     "text": [
      "         Date\n",
      "0  2022-01-01\n",
      "1        None\n",
      "2  2023-01-01\n",
      "3            \n",
      "4  2024-02-01\n"
     ]
    }
   ],
   "source": [
    "data = {'Date': ['2022-01-01', None, '2023-01-01', '', '2024-02-01']}\n",
    "df = pd.DataFrame(data)\n",
    "print(df)"
   ]
  },
  {
   "cell_type": "code",
   "execution_count": 3,
   "id": "690c0119",
   "metadata": {},
   "outputs": [
    {
     "name": "stdout",
     "output_type": "stream",
     "text": [
      "        Date\n",
      "0 2022-01-01\n",
      "1 2024-01-01\n",
      "2 2023-01-01\n",
      "3 2024-01-01\n",
      "4 2024-02-01\n"
     ]
    }
   ],
   "source": [
    "df['Date'] = pd.to_datetime(df['Date'], errors='coerce')\n",
    "df['Date'] = df['Date'].fillna(pd.Timestamp('2024-01-01'))  #column's specific meaning value\n",
    "print(df)"
   ]
  },
  {
   "cell_type": "code",
   "execution_count": 4,
   "id": "7b5bf4af",
   "metadata": {},
   "outputs": [
    {
     "name": "stdout",
     "output_type": "stream",
     "text": [
      "        Date\n",
      "0 2022-01-01\n",
      "1 2024-01-01\n",
      "2 2023-01-01\n",
      "3 2024-01-01\n",
      "4 2024-02-01\n"
     ]
    }
   ],
   "source": [
    "df['Date'].ffill(inplace=True) #to fill the gaps with the previous value\n",
    "print(df)"
   ]
  },
  {
   "cell_type": "code",
   "execution_count": 5,
   "id": "68349ec7",
   "metadata": {},
   "outputs": [
    {
     "name": "stdout",
     "output_type": "stream",
     "text": [
      "        Date\n",
      "0 2022-01-01\n",
      "1 2024-01-01\n",
      "2 2023-01-01\n",
      "3 2024-01-01\n",
      "4 2024-02-01\n"
     ]
    }
   ],
   "source": [
    "df['Date'].bfill(inplace=True) #to fill the gaps with the next value\n",
    "print(df)"
   ]
  },
  {
   "cell_type": "code",
   "execution_count": null,
   "id": "b7dcc68e",
   "metadata": {},
   "outputs": [],
   "source": []
  }
 ],
 "metadata": {
  "kernelspec": {
   "display_name": "Python 3 (ipykernel)",
   "language": "python",
   "name": "python3"
  },
  "language_info": {
   "codemirror_mode": {
    "name": "ipython",
    "version": 3
   },
   "file_extension": ".py",
   "mimetype": "text/x-python",
   "name": "python",
   "nbconvert_exporter": "python",
   "pygments_lexer": "ipython3",
   "version": "3.9.12"
  }
 },
 "nbformat": 4,
 "nbformat_minor": 5
}
