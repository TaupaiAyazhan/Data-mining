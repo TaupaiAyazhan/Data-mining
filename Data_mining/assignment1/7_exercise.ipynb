{
 "cells": [
  {
   "cell_type": "code",
   "execution_count": 1,
   "id": "555136de",
   "metadata": {},
   "outputs": [
    {
     "name": "stdout",
     "output_type": "stream",
     "text": [
      "Accuracy: 0.00\n"
     ]
    }
   ],
   "source": [
    "import pandas as pd\n",
    "from sklearn.model_selection import train_test_split\n",
    "from sklearn.preprocessing import StandardScaler, OneHotEncoder\n",
    "from sklearn.impute import SimpleImputer\n",
    "from sklearn.compose import ColumnTransformer\n",
    "from sklearn.pipeline import Pipeline\n",
    "from sklearn.linear_model import LogisticRegression\n",
    "from sklearn.metrics import accuracy_score\n",
    "\n",
    "df = pd.DataFrame({\n",
    "    'Feature1': [1, 2, None, 4, 5],\n",
    "    'Feature2': ['A', 'B', 'A', 'B', 'C'], \n",
    "    'Target': [0, 1, 0, 1, 0]\n",
    "})\n",
    "\n",
    "X = df.drop('Target', axis=1)\n",
    "y = df['Target']\n",
    "\n",
    "X_train, X_test, y_train, y_test = train_test_split(X, y, test_size=0.2, random_state=42)\n",
    "\n",
    "numeric_features = ['Feature1']\n",
    "categorical_features = ['Feature2']\n",
    "\n",
    "numeric_pipeline = Pipeline(steps = [\n",
    "    ('imputer', SimpleImputer(strategy = 'mean')), # Filling missing values ​​with mean\n",
    "    ('scaler', StandardScaler())                    # Scaling of numerical features\n",
    "])\n",
    "\n",
    "categorical_pipeline = Pipeline(steps=[\n",
    "    ('imputer', SimpleImputer(strategy='most_frequent')), # Filling in missing values ​​with the most frequent\n",
    "    ('onehot', OneHotEncoder(handle_unknown='ignore'))   # Coding of categorical features\n",
    "])\n",
    "\n",
    "# Merging pipelines into one\n",
    "preprocessor = ColumnTransformer(\n",
    "    transformers = [\n",
    "        ('num', numeric_pipeline, numeric_features),\n",
    "        ('cat', categorical_pipeline, categorical_features)\n",
    "    ]\n",
    ")\n",
    "#Building a Full Pipeline: Combine the preprocessing pipeline with a machine learning model.\n",
    "model_pipeline = Pipeline(steps=[\n",
    "    ('preprocessor', preprocessor),\n",
    "    ('classifier', LogisticRegression()) # Machine learning model\n",
    "])\n",
    "\n",
    "#Train the model: Fit the pipeline to the training data.\n",
    "model_pipeline.fit(X_train, y_train)\n",
    "\n",
    "# Prediction and Model Evaluation: Transform the test data and perform prediction.\n",
    "predictions = model_pipeline.predict(X_test)\n",
    "accuracy = accuracy_score(y_test, predictions)\n",
    "\n",
    "print(f\"Accuracy: {accuracy:.2f}\")"
   ]
  },
  {
   "cell_type": "code",
   "execution_count": 2,
   "id": "056d2383",
   "metadata": {},
   "outputs": [
    {
     "name": "stdout",
     "output_type": "stream",
     "text": [
      "Accuracy: 1.00\n"
     ]
    }
   ],
   "source": [
    "import pandas as pd\n",
    "from sklearn.model_selection import train_test_split\n",
    "from sklearn.preprocessing import StandardScaler, OneHotEncoder\n",
    "from sklearn.impute import SimpleImputer\n",
    "from sklearn.compose import ColumnTransformer\n",
    "from sklearn.pipeline import Pipeline\n",
    "from sklearn.linear_model import LogisticRegression\n",
    "from sklearn.metrics import accuracy_score\n",
    "\n",
    "df = pd.DataFrame({\n",
    "    'Feature1': [1, 2, None, 4, 5],\n",
    "    'Feature2': ['A', 'B', 'A', 'B', 'C'], \n",
    "    'Target': [0, 1, 1, 1, 1]\n",
    "})\n",
    "\n",
    "X = df.drop('Target', axis=1)\n",
    "y = df['Target']\n",
    "\n",
    "X_train, X_test, y_train, y_test = train_test_split(X, y, test_size=0.2, random_state=42)\n",
    "\n",
    "numeric_features = ['Feature1']\n",
    "categorical_features = ['Feature2']\n",
    "\n",
    "numeric_pipeline = Pipeline(steps = [\n",
    "    ('imputer', SimpleImputer(strategy = 'mean')), # Filling missing values ​​with mean\n",
    "    ('scaler', StandardScaler())                    # Scaling of numerical features\n",
    "])\n",
    "\n",
    "categorical_pipeline = Pipeline(steps=[\n",
    "    ('imputer', SimpleImputer(strategy='most_frequent')), # Filling in missing values ​​with the most frequent\n",
    "    ('onehot', OneHotEncoder(handle_unknown='ignore'))   # Coding of categorical features\n",
    "])\n",
    "\n",
    "# Merging pipelines into one\n",
    "preprocessor = ColumnTransformer(\n",
    "    transformers = [\n",
    "        ('num', numeric_pipeline, numeric_features),\n",
    "        ('cat', categorical_pipeline, categorical_features)\n",
    "    ]\n",
    ")\n",
    "#Building a Full Pipeline: Combine the preprocessing pipeline with a machine learning model.\n",
    "model_pipeline = Pipeline(steps=[\n",
    "    ('preprocessor', preprocessor),\n",
    "    ('classifier', LogisticRegression()) # Machine learning model\n",
    "])\n",
    "\n",
    "#Train the model: Fit the pipeline to the training data.\n",
    "model_pipeline.fit(X_train, y_train)\n",
    "\n",
    "# Prediction and Model Evaluation: Transform the test data and perform prediction.\n",
    "predictions = model_pipeline.predict(X_test)\n",
    "accuracy = accuracy_score(y_test, predictions)\n",
    "\n",
    "print(f\"Accuracy: {accuracy:.2f}\")"
   ]
  },
  {
   "cell_type": "code",
   "execution_count": null,
   "id": "09f57f2f",
   "metadata": {},
   "outputs": [],
   "source": []
  }
 ],
 "metadata": {
  "kernelspec": {
   "display_name": "Python 3 (ipykernel)",
   "language": "python",
   "name": "python3"
  },
  "language_info": {
   "codemirror_mode": {
    "name": "ipython",
    "version": 3
   },
   "file_extension": ".py",
   "mimetype": "text/x-python",
   "name": "python",
   "nbconvert_exporter": "python",
   "pygments_lexer": "ipython3",
   "version": "3.9.12"
  }
 },
 "nbformat": 4,
 "nbformat_minor": 5
}
